{
 "cells": [
  {
   "cell_type": "code",
   "execution_count": 5,
   "metadata": {},
   "outputs": [],
   "source": [
    "import pandas as pd\n",
    "import datetime\n",
    "import pymongo\n",
    "import json\n",
    "from bson import Binary, Code, json_util, ObjectId\n",
    "from bson.json_util import dumps, RELAXED_JSON_OPTIONS\n",
    "import pygeoj\n",
    "import os\n",
    "import itertools "
   ]
  },
  {
   "cell_type": "code",
   "execution_count": 6,
   "metadata": {},
   "outputs": [],
   "source": [
    "conn = 'mongodb://localhost:27017'\n",
    "client = pymongo.MongoClient(conn)\n",
    "db = client.education_data\n",
    "collection = db.grad_data_2013"
   ]
  },
  {
   "cell_type": "code",
   "execution_count": 7,
   "metadata": {},
   "outputs": [],
   "source": [
    "# files\n",
    "rootdir = './data/4YearGraduation'\n",
    "\n",
    "# lists defined\n",
    "districts_list = []\n",
    "years = ['2018','2017','2016','2015','2014']\n",
    "\n",
    "# for loop to get all files\n",
    "for subdir, dirs, files in os.walk(rootdir):\n",
    "    for file in files:\n",
    "        data = os.path.join(subdir, file)\n",
    "        districts_list.append(data)\n",
    "        districts_list.reverse()\n",
    "        districts_list.sort()\n",
    "\n",
    "#  add all 4 year graduation from 2013 to 2018 to mongod\n",
    "for (file, year) in zip(districts_list, years):\n",
    "    data = file\n",
    "#     defined variables labels\n",
    "    grad_label = \"grad_\"+ year\n",
    "    df_label = grad_label +\"_df\"\n",
    "    dic_label = \"to_dic_\" + year\n",
    "    db_label = \"grad_data_\" + year\n",
    "    collection = db[db_label]\n",
    "    \n",
    "#     Read data & add to dataframe\n",
    "    grad_label = pd.read_csv(data)\n",
    "    df_label = pd.DataFrame(grad_label)\n",
    "#     add data to dictionary\n",
    "    dic_label = df_label.to_dict('records')\n",
    "#     drop collection if duplicate\n",
    "    db.collection.drop()\n",
    "#     add data to collection\n",
    "    collection.insert_many(dic_label)\n",
    "    "
   ]
  },
  {
   "cell_type": "code",
   "execution_count": 8,
   "metadata": {},
   "outputs": [],
   "source": [
    "# files\n",
    "rootdir = './data/district'\n",
    "\n",
    "# lists defined\n",
    "districts_list = []\n",
    "years = ['2020','2018-2019','2017-2018','2016-2017','2015-2016','2014-2015','2013-2014']\n",
    "\n",
    "# for loop to get all files\n",
    "for subdir, dirs, files in os.walk(rootdir):\n",
    "    for file in files:\n",
    "        data = os.path.join(subdir, file)\n",
    "        districts_list.append(data)\n",
    "        districts_list.reverse()\n",
    "        districts_list.sort()\n",
    "\n",
    "#  add all 4 year graduation from 2013 to 2018 to mongod\n",
    "for (file, year) in zip(districts_list, years):\n",
    "    data = file\n",
    "#     defined variables labels\n",
    "    grad_label = \"district_budget\"+ year\n",
    "    df_label = grad_label +\"_df\"\n",
    "    dic_label = \"to_dic_\" + year\n",
    "    db_label = \"district_budget_\" + year\n",
    "    collection = db[db_label]\n",
    "    \n",
    "#     Read data & add to dataframe\n",
    "    grad_label = pd.read_csv(data)\n",
    "    df_label = pd.DataFrame(grad_label)\n",
    "#     add data to dictionary\n",
    "    dic_label = df_label.to_dict('records')\n",
    "#     drop collection if duplicate\n",
    "    db.collection.drop()\n",
    "#     add data to collection\n",
    "    collection.insert_many(dic_label)\n"
   ]
  },
  {
   "cell_type": "code",
   "execution_count": null,
   "metadata": {},
   "outputs": [],
   "source": []
  }
 ],
 "metadata": {
  "kernelspec": {
   "display_name": "Python 3",
   "language": "python",
   "name": "python3"
  },
  "language_info": {
   "codemirror_mode": {
    "name": "ipython",
    "version": 3
   },
   "file_extension": ".py",
   "mimetype": "text/x-python",
   "name": "python",
   "nbconvert_exporter": "python",
   "pygments_lexer": "ipython3",
   "version": "3.7.1"
  }
 },
 "nbformat": 4,
 "nbformat_minor": 2
}
